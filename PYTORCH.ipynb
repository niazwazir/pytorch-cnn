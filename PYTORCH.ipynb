{
 "cells": [
  {
   "cell_type": "code",
   "execution_count": 1,
   "metadata": {},
   "outputs": [],
   "source": [
    "from __future__ import print_function\n",
    "import torch as t"
   ]
  },
  {
   "cell_type": "code",
   "execution_count": 2,
   "metadata": {},
   "outputs": [
    {
     "data": {
      "text/plain": [
       "tensor([[0.0000e+00, 0.0000e+00, 0.0000e+00],\n",
       "        [0.0000e+00, 0.0000e+00, 0.0000e+00],\n",
       "        [0.0000e+00, 0.0000e+00, 0.0000e+00],\n",
       "        [0.0000e+00, 1.3116e-42, 0.0000e+00],\n",
       "        [0.0000e+00, 1.2567e+19, 0.0000e+00]])"
      ]
     },
     "execution_count": 2,
     "metadata": {},
     "output_type": "execute_result"
    }
   ],
   "source": [
    "x = t.Tensor(5, 3)  \n",
    "x"
   ]
  },
  {
   "cell_type": "code",
   "execution_count": 3,
   "metadata": {},
   "outputs": [],
   "source": [
    "y = t.Tensor(5, 5)"
   ]
  },
  {
   "cell_type": "code",
   "execution_count": 4,
   "metadata": {},
   "outputs": [
    {
     "data": {
      "text/plain": [
       "tensor([[1.4588e-19, 1.6612e-04, 2.5467e-12, 4.0274e-11, 6.6292e-10],\n",
       "        [9.3205e-09, 4.1723e-08, 4.9153e-14, 1.3563e-19, 1.8578e-01],\n",
       "        [1.7592e+22, 1.8174e+31, 1.3563e-19, 1.7753e+28, 1.3458e-14],\n",
       "        [9.3340e-09, 5.8253e-10, 5.8253e-10, 2.3301e-09, 1.1704e-19],\n",
       "        [1.3563e-19, 1.3563e-19, 4.5071e+16, 1.4585e-19, 1.4585e-19]])"
      ]
     },
     "execution_count": 4,
     "metadata": {},
     "output_type": "execute_result"
    }
   ],
   "source": [
    "y"
   ]
  },
  {
   "cell_type": "code",
   "execution_count": 5,
   "metadata": {},
   "outputs": [
    {
     "data": {
      "text/plain": [
       "tensor([[0.1055, 0.3302, 0.0180],\n",
       "        [0.8072, 0.2232, 0.9640],\n",
       "        [0.5859, 0.4192, 0.4197],\n",
       "        [0.5604, 0.2363, 0.5769],\n",
       "        [0.3078, 0.1527, 0.3470]])"
      ]
     },
     "execution_count": 5,
     "metadata": {},
     "output_type": "execute_result"
    }
   ],
   "source": [
    "x = t.rand(5, 3)  \n",
    "x"
   ]
  },
  {
   "cell_type": "code",
   "execution_count": 6,
   "metadata": {},
   "outputs": [
    {
     "data": {
      "text/plain": [
       "tensor([[0.1481, 0.8590, 0.2360],\n",
       "        [0.5567, 0.9136, 0.3895],\n",
       "        [0.6065, 0.5414, 0.4648],\n",
       "        [0.0173, 0.5171, 0.6076],\n",
       "        [0.0673, 0.0014, 0.1648]])"
      ]
     },
     "execution_count": 6,
     "metadata": {},
     "output_type": "execute_result"
    }
   ],
   "source": [
    "x = t.rand(5, 3)  \n",
    "x"
   ]
  },
  {
   "cell_type": "code",
   "execution_count": 7,
   "metadata": {},
   "outputs": [
    {
     "name": "stdout",
     "output_type": "stream",
     "text": [
      "torch.Size([5, 3])\n"
     ]
    },
    {
     "data": {
      "text/plain": [
       "(3, 3)"
      ]
     },
     "execution_count": 7,
     "metadata": {},
     "output_type": "execute_result"
    }
   ],
   "source": [
    "print(x.size()) \n",
    "x.size()[1], x.size(1) "
   ]
  },
  {
   "cell_type": "code",
   "execution_count": 10,
   "metadata": {},
   "outputs": [],
   "source": [
    "import numpy as np"
   ]
  },
  {
   "cell_type": "code",
   "execution_count": 11,
   "metadata": {},
   "outputs": [],
   "source": [
    "m, n, l1, l2 = 64, 1000, 100, 10"
   ]
  },
  {
   "cell_type": "code",
   "execution_count": 12,
   "metadata": {},
   "outputs": [],
   "source": [
    "x = np.random.randn(m,n)\n",
    "y = np.random.randn(m,l2)\n",
    "\n",
    "w1 = np.random.randn(n,l1)\n",
    "w2 = np.random.randn(l1,l2)\n",
    "b1 = np.random.randn(1,l1)\n",
    "b2 = np.random.randn(1,l2)"
   ]
  },
  {
   "cell_type": "code",
   "execution_count": 13,
   "metadata": {},
   "outputs": [],
   "source": [
    "learning_rate = 1e-5\n",
    "cost = []\n",
    "for t in range(100):\n",
    "\n",
    "    # forward pass\n",
    "\n",
    "    z1 = np.dot(x,w1) + b1\n",
    "    a1 = np.maximum(z1,0)\n",
    "    z2 = np.dot(a1,w2) + b2\n",
    "\n",
    "    # euclidean distance\n",
    "\n",
    "    loss = np.square(z2 - y).sum()\n",
    "    cost.append(loss)\n",
    "\n",
    "    # calculate gradients\n",
    "\n",
    "    dz2 = 2*(z2 - y)\n",
    "    dw2 = np.dot(a1.T,dz2)/m\n",
    "    db2 = dz2.sum()/m\n",
    "    da1 = np.dot(dz2,w2.T)\n",
    "    dz1 = da1.copy()\n",
    "    dz1 = np.maximum(dz1,0)\n",
    "    dw1 = np.dot(x.T,dz1)/m\n",
    "    db1 = dz1.sum()/m\n",
    "\n",
    "    # update parameters\n",
    "\n",
    "    w2 -= learning_rate*dw2\n",
    "    w1 -= learning_rate*dw1\n",
    "\n",
    "    b2 -= learning_rate*db2\n",
    "    b1 -= learning_rate*db1\n",
    "\n"
   ]
  },
  {
   "cell_type": "code",
   "execution_count": 14,
   "metadata": {},
   "outputs": [],
   "source": [
    "import matplotlib.pyplot as plt"
   ]
  },
  {
   "cell_type": "code",
   "execution_count": 15,
   "metadata": {},
   "outputs": [
    {
     "data": {
      "image/png": "[encoded data removed]",
      "text/plain": [
       "<Figure size 432x288 with 1 Axes>"
      ]
     },
     "metadata": {},
     "output_type": "display_data"
    }
   ],
   "source": [
    "plt.xlabel(\"iterations\")\n",
    "plt.ylabel(\"cost\")\n",
    "plt.plot(cost)\n",
    "plt.show()"
   ]
  },
  {
   "cell_type": "code",
   "execution_count": 35,
   "metadata": {},
   "outputs": [
    {
     "name": "stdout",
     "output_type": "stream",
     "text": [
      "----------------------------------------------------------------\n",
      "        Layer (type)               Output Shape         Param #\n",
      "================================================================\n",
      "            Conv2d-1           [-1, 10, 24, 24]             260\n",
      "            Conv2d-2             [-1, 20, 8, 8]           5,020\n",
      "         Dropout2d-3             [-1, 20, 8, 8]               0\n",
      "            Linear-4                   [-1, 50]          16,050\n",
      "            Linear-5                   [-1, 10]             510\n",
      "================================================================\n",
      "Total params: 21,840\n",
      "Trainable params: 21,840\n",
      "Non-trainable params: 0\n",
      "----------------------------------------------------------------\n",
      "Input size (MB): 0.00\n",
      "Forward/backward pass size (MB): 0.06\n",
      "Params size (MB): 0.08\n",
      "Estimated Total Size (MB): 0.15\n",
      "----------------------------------------------------------------\n"
     ]
    }
   ],
   "source": [
    "import torch\n",
    "import torch.nn as nn\n",
    "import torch.nn.functional as F\n",
    "from torchsummary import summary\n",
    "\n",
    "class Net(nn.Module):\n",
    "    def __init__(self):\n",
    "        super(Net, self).__init__()\n",
    "        self.conv1 = nn.Conv2d(1, 10, kernel_size=5)\n",
    "        self.conv2 = nn.Conv2d(10, 20, kernel_size=5)\n",
    "        self.conv2_drop = nn.Dropout2d()\n",
    "        self.fc1 = nn.Linear(320, 50)\n",
    "        self.fc2 = nn.Linear(50, 10)\n",
    "\n",
    "    def forward(self, x):\n",
    "        x = F.relu(F.max_pool2d(self.conv1(x), 2))\n",
    "        x = F.relu(F.max_pool2d(self.conv2_drop(self.conv2(x)), 2))\n",
    "        x = x.view(-1, 320)\n",
    "        x = F.relu(self.fc1(x))\n",
    "        x = F.dropout(x, training=self.training)\n",
    "        x = self.fc2(x)\n",
    "        return F.log_softmax(x, dim=1)\n",
    "\n",
    "device = torch.device(\"cuda\" if torch.cuda.is_available() else \"cpu\") # PyTorch v0.4.0\n",
    "model = Net().to(device)\n",
    "\n",
    "summary(model, (1, 28, 28))"
   ]
  },
  {
   "cell_type": "code",
   "execution_count": 47,
   "metadata": {},
   "outputs": [],
   "source": [
    "#%matplotlib inline\n",
    "#from graphviz import Digraph"
   ]
  },
  {
   "cell_type": "code",
   "execution_count": 48,
   "metadata": {},
   "outputs": [],
   "source": [
    "import torch\n",
    "from torch.autograd import Variable\n",
    "from torch import nn\n",
    "from torchviz import make_dot, make_dot_from_trace"
   ]
  },
  {
   "cell_type": "code",
   "execution_count": 57,
   "metadata": {},
   "outputs": [
    {
     "data": {
      "image/svg+xml": [
       "<?xml version=\"1.0\" encoding=\"UTF-8\" standalone=\"no\"?>\r\n",
       "<!DOCTYPE svg PUBLIC \"-//W3C//DTD SVG 1.1//EN\"\r\n",
       " \"http://www.w3.org/Graphics/SVG/1.1/DTD/svg11.dtd\">\r\n",
       "<!-- Generated by graphviz version 2.38.0 (20140413.2041)\r\n",
       " -->\r\n",
       "<!-- Title: %3 Pages: 1 -->\r\n",
       "<svg width=\"458pt\" height=\"410pt\"\r\n",
       " viewBox=\"0.00 0.00 457.50 410.00\" xmlns=\"http://www.w3.org/2000/svg\" xmlns:xlink=\"http://www.w3.org/1999/xlink\">\r\n",
       "<g id=\"graph0\" class=\"graph\" transform=\"scale(1 1) rotate(0) translate(4 406)\">\r\n",
       "<title>%3</title>\r\n",
       "<polygon fill=\"white\" stroke=\"none\" points=\"-4,4 -4,-406 453.5,-406 453.5,4 -4,4\"/>\r\n",
       "<!-- 496503047504 -->\r\n",
       "<g id=\"node1\" class=\"node\"><title>496503047504</title>\r\n",
       "<polygon fill=\"lightgrey\" stroke=\"black\" points=\"280.5,-21 184.5,-21 184.5,-0 280.5,-0 280.5,-21\"/>\r\n",
       "<text text-anchor=\"middle\" x=\"232.5\" y=\"-7.4\" font-family=\"Times New Roman,serif\" font-size=\"12.00\">MeanBackward1</text>\r\n",
       "</g>\r\n",
       "<!-- 496503047560 -->\r\n",
       "<g id=\"node2\" class=\"node\"><title>496503047560</title>\r\n",
       "<polygon fill=\"lightgrey\" stroke=\"black\" points=\"289,-78 176,-78 176,-57 289,-57 289,-78\"/>\r\n",
       "<text text-anchor=\"middle\" x=\"232.5\" y=\"-64.4\" font-family=\"Times New Roman,serif\" font-size=\"12.00\">ThAddmmBackward</text>\r\n",
       "</g>\r\n",
       "<!-- 496503047560&#45;&gt;496503047504 -->\r\n",
       "<g id=\"edge1\" class=\"edge\"><title>496503047560&#45;&gt;496503047504</title>\r\n",
       "<path fill=\"none\" stroke=\"black\" d=\"M232.5,-56.9197C232.5,-49.9083 232.5,-40.1442 232.5,-31.4652\"/>\r\n",
       "<polygon fill=\"black\" stroke=\"black\" points=\"236,-31.3408 232.5,-21.3408 229,-31.3409 236,-31.3408\"/>\r\n",
       "</g>\r\n",
       "<!-- 496503047672 -->\r\n",
       "<g id=\"node3\" class=\"node\"><title>496503047672</title>\r\n",
       "<polygon fill=\"lightgrey\" stroke=\"black\" points=\"116.5,-135 18.5,-135 18.5,-114 116.5,-114 116.5,-135\"/>\r\n",
       "<text text-anchor=\"middle\" x=\"67.5\" y=\"-121.4\" font-family=\"Times New Roman,serif\" font-size=\"12.00\">ExpandBackward</text>\r\n",
       "</g>\r\n",
       "<!-- 496503047672&#45;&gt;496503047560 -->\r\n",
       "<g id=\"edge2\" class=\"edge\"><title>496503047672&#45;&gt;496503047560</title>\r\n",
       "<path fill=\"none\" stroke=\"black\" d=\"M96.2408,-113.92C123.367,-104.878 164.226,-91.2578 194.128,-81.2908\"/>\r\n",
       "<polygon fill=\"black\" stroke=\"black\" points=\"195.432,-84.5453 203.812,-78.0626 193.219,-77.9045 195.432,-84.5453\"/>\r\n",
       "</g>\r\n",
       "<!-- 496503047896 -->\r\n",
       "<g id=\"node4\" class=\"node\"><title>496503047896</title>\r\n",
       "<polygon fill=\"lightblue\" stroke=\"black\" points=\"55,-205 0,-205 0,-171 55,-171 55,-205\"/>\r\n",
       "<text text-anchor=\"middle\" x=\"27.5\" y=\"-191.4\" font-family=\"Times New Roman,serif\" font-size=\"12.00\">niaz.bias</text>\r\n",
       "<text text-anchor=\"middle\" x=\"27.5\" y=\"-178.4\" font-family=\"Times New Roman,serif\" font-size=\"12.00\"> (1)</text>\r\n",
       "</g>\r\n",
       "<!-- 496503047896&#45;&gt;496503047672 -->\r\n",
       "<g id=\"edge3\" class=\"edge\"><title>496503047896&#45;&gt;496503047672</title>\r\n",
       "<path fill=\"none\" stroke=\"black\" d=\"M38.0095,-170.842C43.4491,-162.478 50.108,-152.24 55.7209,-143.61\"/>\r\n",
       "<polygon fill=\"black\" stroke=\"black\" points=\"58.7756,-145.333 61.2939,-135.042 52.9076,-141.516 58.7756,-145.333\"/>\r\n",
       "</g>\r\n",
       "<!-- 496503047728 -->\r\n",
       "<g id=\"node5\" class=\"node\"><title>496503047728</title>\r\n",
       "<polygon fill=\"lightgrey\" stroke=\"black\" points=\"289,-135 176,-135 176,-114 289,-114 289,-135\"/>\r\n",
       "<text text-anchor=\"middle\" x=\"232.5\" y=\"-121.4\" font-family=\"Times New Roman,serif\" font-size=\"12.00\">ThAddmmBackward</text>\r\n",
       "</g>\r\n",
       "<!-- 496503047728&#45;&gt;496503047560 -->\r\n",
       "<g id=\"edge4\" class=\"edge\"><title>496503047728&#45;&gt;496503047560</title>\r\n",
       "<path fill=\"none\" stroke=\"black\" d=\"M232.5,-113.92C232.5,-106.908 232.5,-97.1442 232.5,-88.4652\"/>\r\n",
       "<polygon fill=\"black\" stroke=\"black\" points=\"236,-88.3408 232.5,-78.3408 229,-88.3409 236,-88.3408\"/>\r\n",
       "</g>\r\n",
       "<!-- 496503047952 -->\r\n",
       "<g id=\"node6\" class=\"node\"><title>496503047952</title>\r\n",
       "<polygon fill=\"lightgrey\" stroke=\"black\" points=\"171.5,-198.5 73.5,-198.5 73.5,-177.5 171.5,-177.5 171.5,-198.5\"/>\r\n",
       "<text text-anchor=\"middle\" x=\"122.5\" y=\"-184.9\" font-family=\"Times New Roman,serif\" font-size=\"12.00\">ExpandBackward</text>\r\n",
       "</g>\r\n",
       "<!-- 496503047952&#45;&gt;496503047728 -->\r\n",
       "<g id=\"edge5\" class=\"edge\"><title>496503047952&#45;&gt;496503047728</title>\r\n",
       "<path fill=\"none\" stroke=\"black\" d=\"M139.688,-177.391C157.608,-167.371 185.909,-151.548 206.552,-140.007\"/>\r\n",
       "<polygon fill=\"black\" stroke=\"black\" points=\"208.413,-142.977 215.433,-135.042 204.997,-136.867 208.413,-142.977\"/>\r\n",
       "</g>\r\n",
       "<!-- 496503048176 -->\r\n",
       "<g id=\"node7\" class=\"node\"><title>496503048176</title>\r\n",
       "<polygon fill=\"lightblue\" stroke=\"black\" points=\"149.5,-275 95.5,-275 95.5,-241 149.5,-241 149.5,-275\"/>\r\n",
       "<text text-anchor=\"middle\" x=\"122.5\" y=\"-261.4\" font-family=\"Times New Roman,serif\" font-size=\"12.00\">w1.bias</text>\r\n",
       "<text text-anchor=\"middle\" x=\"122.5\" y=\"-248.4\" font-family=\"Times New Roman,serif\" font-size=\"12.00\"> (1)</text>\r\n",
       "</g>\r\n",
       "<!-- 496503048176&#45;&gt;496503047952 -->\r\n",
       "<g id=\"edge6\" class=\"edge\"><title>496503048176&#45;&gt;496503047952</title>\r\n",
       "<path fill=\"none\" stroke=\"black\" d=\"M122.5,-240.885C122.5,-231.309 122.5,-219.088 122.5,-208.912\"/>\r\n",
       "<polygon fill=\"black\" stroke=\"black\" points=\"126,-208.895 122.5,-198.895 119,-208.895 126,-208.895\"/>\r\n",
       "</g>\r\n",
       "<!-- 496503048008 -->\r\n",
       "<g id=\"node8\" class=\"node\"><title>496503048008</title>\r\n",
       "<polygon fill=\"lightgrey\" stroke=\"black\" points=\"275.5,-198.5 189.5,-198.5 189.5,-177.5 275.5,-177.5 275.5,-198.5\"/>\r\n",
       "<text text-anchor=\"middle\" x=\"232.5\" y=\"-184.9\" font-family=\"Times New Roman,serif\" font-size=\"12.00\">TanhBackward</text>\r\n",
       "</g>\r\n",
       "<!-- 496503048008&#45;&gt;496503047728 -->\r\n",
       "<g id=\"edge7\" class=\"edge\"><title>496503048008&#45;&gt;496503047728</title>\r\n",
       "<path fill=\"none\" stroke=\"black\" d=\"M232.5,-177.391C232.5,-168.866 232.5,-156.139 232.5,-145.423\"/>\r\n",
       "<polygon fill=\"black\" stroke=\"black\" points=\"236,-145.245 232.5,-135.245 229,-145.245 236,-145.245\"/>\r\n",
       "</g>\r\n",
       "<!-- 496503048232 -->\r\n",
       "<g id=\"node9\" class=\"node\"><title>496503048232</title>\r\n",
       "<polygon fill=\"lightgrey\" stroke=\"black\" points=\"285,-268.5 172,-268.5 172,-247.5 285,-247.5 285,-268.5\"/>\r\n",
       "<text text-anchor=\"middle\" x=\"228.5\" y=\"-254.9\" font-family=\"Times New Roman,serif\" font-size=\"12.00\">ThAddmmBackward</text>\r\n",
       "</g>\r\n",
       "<!-- 496503048232&#45;&gt;496503048008 -->\r\n",
       "<g id=\"edge8\" class=\"edge\"><title>496503048232&#45;&gt;496503048008</title>\r\n",
       "<path fill=\"none\" stroke=\"black\" d=\"M229.073,-247.257C229.661,-237.259 230.593,-221.422 231.336,-208.782\"/>\r\n",
       "<polygon fill=\"black\" stroke=\"black\" points=\"234.835,-208.913 231.928,-198.725 227.847,-208.502 234.835,-208.913\"/>\r\n",
       "</g>\r\n",
       "<!-- 496503048344 -->\r\n",
       "<g id=\"node10\" class=\"node\"><title>496503048344</title>\r\n",
       "<polygon fill=\"lightgrey\" stroke=\"black\" points=\"226.5,-332 128.5,-332 128.5,-311 226.5,-311 226.5,-332\"/>\r\n",
       "<text text-anchor=\"middle\" x=\"177.5\" y=\"-318.4\" font-family=\"Times New Roman,serif\" font-size=\"12.00\">ExpandBackward</text>\r\n",
       "</g>\r\n",
       "<!-- 496503048344&#45;&gt;496503048232 -->\r\n",
       "<g id=\"edge9\" class=\"edge\"><title>496503048344&#45;&gt;496503048232</title>\r\n",
       "<path fill=\"none\" stroke=\"black\" d=\"M185.469,-310.891C193.059,-301.738 204.666,-287.741 213.913,-276.59\"/>\r\n",
       "<polygon fill=\"black\" stroke=\"black\" points=\"216.73,-278.677 220.419,-268.745 211.341,-274.208 216.73,-278.677\"/>\r\n",
       "</g>\r\n",
       "<!-- 496503048512 -->\r\n",
       "<g id=\"node11\" class=\"node\"><title>496503048512</title>\r\n",
       "<polygon fill=\"lightblue\" stroke=\"black\" points=\"204.5,-402 150.5,-402 150.5,-368 204.5,-368 204.5,-402\"/>\r\n",
       "<text text-anchor=\"middle\" x=\"177.5\" y=\"-388.4\" font-family=\"Times New Roman,serif\" font-size=\"12.00\">wo.bias</text>\r\n",
       "<text text-anchor=\"middle\" x=\"177.5\" y=\"-375.4\" font-family=\"Times New Roman,serif\" font-size=\"12.00\"> (1)</text>\r\n",
       "</g>\r\n",
       "<!-- 496503048512&#45;&gt;496503048344 -->\r\n",
       "<g id=\"edge10\" class=\"edge\"><title>496503048512&#45;&gt;496503048344</title>\r\n",
       "<path fill=\"none\" stroke=\"black\" d=\"M177.5,-367.842C177.5,-360.012 177.5,-350.54 177.5,-342.282\"/>\r\n",
       "<polygon fill=\"black\" stroke=\"black\" points=\"181,-342.042 177.5,-332.042 174,-342.042 181,-342.042\"/>\r\n",
       "</g>\r\n",
       "<!-- 496503048400 -->\r\n",
       "<g id=\"node12\" class=\"node\"><title>496503048400</title>\r\n",
       "<polygon fill=\"lightgrey\" stroke=\"black\" points=\"316,-332 245,-332 245,-311 316,-311 316,-332\"/>\r\n",
       "<text text-anchor=\"middle\" x=\"280.5\" y=\"-318.4\" font-family=\"Times New Roman,serif\" font-size=\"12.00\">TBackward</text>\r\n",
       "</g>\r\n",
       "<!-- 496503048400&#45;&gt;496503048232 -->\r\n",
       "<g id=\"edge11\" class=\"edge\"><title>496503048400&#45;&gt;496503048232</title>\r\n",
       "<path fill=\"none\" stroke=\"black\" d=\"M272.375,-310.891C264.636,-301.738 252.801,-287.741 243.373,-276.59\"/>\r\n",
       "<polygon fill=\"black\" stroke=\"black\" points=\"245.869,-274.121 236.74,-268.745 240.524,-278.641 245.869,-274.121\"/>\r\n",
       "</g>\r\n",
       "<!-- 496503048568 -->\r\n",
       "<g id=\"node13\" class=\"node\"><title>496503048568</title>\r\n",
       "<polygon fill=\"lightblue\" stroke=\"black\" points=\"312,-402 249,-402 249,-368 312,-368 312,-402\"/>\r\n",
       "<text text-anchor=\"middle\" x=\"280.5\" y=\"-388.4\" font-family=\"Times New Roman,serif\" font-size=\"12.00\">wo.weight</text>\r\n",
       "<text text-anchor=\"middle\" x=\"280.5\" y=\"-375.4\" font-family=\"Times New Roman,serif\" font-size=\"12.00\"> (1, 1)</text>\r\n",
       "</g>\r\n",
       "<!-- 496503048568&#45;&gt;496503048400 -->\r\n",
       "<g id=\"edge12\" class=\"edge\"><title>496503048568&#45;&gt;496503048400</title>\r\n",
       "<path fill=\"none\" stroke=\"black\" d=\"M280.5,-367.842C280.5,-360.012 280.5,-350.54 280.5,-342.282\"/>\r\n",
       "<polygon fill=\"black\" stroke=\"black\" points=\"284,-342.042 280.5,-332.042 277,-342.042 284,-342.042\"/>\r\n",
       "</g>\r\n",
       "<!-- 496503048064 -->\r\n",
       "<g id=\"node14\" class=\"node\"><title>496503048064</title>\r\n",
       "<polygon fill=\"lightgrey\" stroke=\"black\" points=\"365,-198.5 294,-198.5 294,-177.5 365,-177.5 365,-198.5\"/>\r\n",
       "<text text-anchor=\"middle\" x=\"329.5\" y=\"-184.9\" font-family=\"Times New Roman,serif\" font-size=\"12.00\">TBackward</text>\r\n",
       "</g>\r\n",
       "<!-- 496503048064&#45;&gt;496503047728 -->\r\n",
       "<g id=\"edge13\" class=\"edge\"><title>496503048064&#45;&gt;496503047728</title>\r\n",
       "<path fill=\"none\" stroke=\"black\" d=\"M314.344,-177.391C298.826,-167.552 274.481,-152.117 256.372,-140.635\"/>\r\n",
       "<polygon fill=\"black\" stroke=\"black\" points=\"257.87,-137.441 247.55,-135.042 254.121,-143.353 257.87,-137.441\"/>\r\n",
       "</g>\r\n",
       "<!-- 496503048288 -->\r\n",
       "<g id=\"node15\" class=\"node\"><title>496503048288</title>\r\n",
       "<polygon fill=\"lightblue\" stroke=\"black\" points=\"366,-275 303,-275 303,-241 366,-241 366,-275\"/>\r\n",
       "<text text-anchor=\"middle\" x=\"334.5\" y=\"-261.4\" font-family=\"Times New Roman,serif\" font-size=\"12.00\">w1.weight</text>\r\n",
       "<text text-anchor=\"middle\" x=\"334.5\" y=\"-248.4\" font-family=\"Times New Roman,serif\" font-size=\"12.00\"> (1, 1)</text>\r\n",
       "</g>\r\n",
       "<!-- 496503048288&#45;&gt;496503048064 -->\r\n",
       "<g id=\"edge14\" class=\"edge\"><title>496503048288&#45;&gt;496503048064</title>\r\n",
       "<path fill=\"none\" stroke=\"black\" d=\"M333.315,-240.885C332.611,-231.309 331.712,-219.088 330.964,-208.912\"/>\r\n",
       "<polygon fill=\"black\" stroke=\"black\" points=\"334.452,-208.611 330.228,-198.895 327.47,-209.124 334.452,-208.611\"/>\r\n",
       "</g>\r\n",
       "<!-- 496503047784 -->\r\n",
       "<g id=\"node16\" class=\"node\"><title>496503047784</title>\r\n",
       "<polygon fill=\"lightgrey\" stroke=\"black\" points=\"415,-135 344,-135 344,-114 415,-114 415,-135\"/>\r\n",
       "<text text-anchor=\"middle\" x=\"379.5\" y=\"-121.4\" font-family=\"Times New Roman,serif\" font-size=\"12.00\">TBackward</text>\r\n",
       "</g>\r\n",
       "<!-- 496503047784&#45;&gt;496503047560 -->\r\n",
       "<g id=\"edge15\" class=\"edge\"><title>496503047784&#45;&gt;496503047560</title>\r\n",
       "<path fill=\"none\" stroke=\"black\" d=\"M353.895,-113.92C330.116,-105.023 294.492,-91.6942 267.977,-81.7739\"/>\r\n",
       "<polygon fill=\"black\" stroke=\"black\" points=\"268.898,-78.3813 258.305,-78.155 266.445,-84.9374 268.898,-78.3813\"/>\r\n",
       "</g>\r\n",
       "<!-- 496503048120 -->\r\n",
       "<g id=\"node17\" class=\"node\"><title>496503048120</title>\r\n",
       "<polygon fill=\"lightblue\" stroke=\"black\" points=\"449.5,-205 383.5,-205 383.5,-171 449.5,-171 449.5,-205\"/>\r\n",
       "<text text-anchor=\"middle\" x=\"416.5\" y=\"-191.4\" font-family=\"Times New Roman,serif\" font-size=\"12.00\">niaz.weight</text>\r\n",
       "<text text-anchor=\"middle\" x=\"416.5\" y=\"-178.4\" font-family=\"Times New Roman,serif\" font-size=\"12.00\"> (1, 1)</text>\r\n",
       "</g>\r\n",
       "<!-- 496503048120&#45;&gt;496503047784 -->\r\n",
       "<g id=\"edge16\" class=\"edge\"><title>496503048120&#45;&gt;496503047784</title>\r\n",
       "<path fill=\"none\" stroke=\"black\" d=\"M406.779,-170.842C401.801,-162.567 395.719,-152.458 390.562,-143.886\"/>\r\n",
       "<polygon fill=\"black\" stroke=\"black\" points=\"393.395,-141.806 385.241,-135.042 387.397,-145.415 393.395,-141.806\"/>\r\n",
       "</g>\r\n",
       "</g>\r\n",
       "</svg>\r\n"
      ],
      "text/plain": [
       "<graphviz.dot.Digraph at 0x7399e34518>"
      ]
     },
     "execution_count": 57,
     "metadata": {},
     "output_type": "execute_result"
    }
   ],
   "source": [
    "model1 = nn.Sequential()\n",
    "model1.add_module('wo',nn.Linear(1,1))\n",
    "model1.add_module('tanh',nn.Tanh())\n",
    "model1.add_module('w1',nn.Linear(1,1))\n",
    "model1.add_module('niaz',nn.Linear(1,1))\n",
    "x = Variable(torch.randn(1,1))\n",
    "y = model1(x)\n",
    "make_dot(y.mean(),params=dict(model1.named_parameters()))"
   ]
  },
  {
   "cell_type": "code",
   "execution_count": null,
   "metadata": {},
   "outputs": [],
   "source": [
    "#from torchsummary import summary\n",
    "#summary(your_model, input_size=(channels, H, W))"
   ]
  },
  {
   "cell_type": "code",
   "execution_count": 61,
   "metadata": {},
   "outputs": [
    {
     "name": "stdout",
     "output_type": "stream",
     "text": [
      "----------------------------------------------------------------\n",
      "        Layer (type)               Output Shape         Param #\n",
      "================================================================\n",
      "            Linear-1              [-1, 1, 1, 1]               2\n",
      "              Tanh-2              [-1, 1, 1, 1]               0\n",
      "            Linear-3              [-1, 1, 1, 1]               2\n",
      "            Linear-4              [-1, 1, 1, 1]               2\n",
      "================================================================\n",
      "Total params: 6\n",
      "Trainable params: 6\n",
      "Non-trainable params: 0\n",
      "----------------------------------------------------------------\n",
      "Input size (MB): 0.00\n",
      "Forward/backward pass size (MB): 0.00\n",
      "Params size (MB): 0.00\n",
      "Estimated Total Size (MB): 0.00\n",
      "----------------------------------------------------------------\n"
     ]
    }
   ],
   "source": [
    "from torchsummary import summary\n",
    "summary(model1, input_size=(1,1,1))"
   ]
  },
  {
   "cell_type": "code",
   "execution_count": 60,
   "metadata": {},
   "outputs": [
    {
     "name": "stdout",
     "output_type": "stream",
     "text": [
      "----------------------------------------------------------------\n",
      "        Layer (type)               Output Shape         Param #\n",
      "================================================================\n",
      "            Linear-1              [-1, 1, 1, 1]               2\n",
      "              Tanh-2              [-1, 1, 1, 1]               0\n",
      "            Linear-3              [-1, 1, 1, 1]               2\n",
      "            Linear-4              [-1, 1, 1, 1]               2\n",
      "================================================================\n",
      "Total params: 6\n",
      "Trainable params: 6\n",
      "Non-trainable params: 0\n",
      "----------------------------------------------------------------\n",
      "Input size (MB): 0.00\n",
      "Forward/backward pass size (MB): 0.00\n",
      "Params size (MB): 0.00\n",
      "Estimated Total Size (MB): 0.00\n",
      "----------------------------------------------------------------\n"
     ]
    }
   ],
   "source": [
    "summary(model1, (1, 1,1))"
   ]
  },
  {
   "cell_type": "code",
   "execution_count": 63,
   "metadata": {},
   "outputs": [],
   "source": [
    "import torch #import torch library\n",
    "import torch.nn as nn #import torch neural network library\n",
    "import torch.nn.functional as F #import functional neural network module\n",
    "import torch.optim as optim #import optimizer neural network module\n",
    "from torch.autograd import Variable #import variable that connect to automatic differentiation\n",
    "#from torchvision import datasets, transforms #import torchvision for datasets and transform"
   ]
  },
  {
   "cell_type": "code",
   "execution_count": 64,
   "metadata": {},
   "outputs": [],
   "source": [
    "class CNN(nn.Module):\n",
    "\tdef __init__(self):\n",
    "\t\tsuper(CNN, self).__init__() #load super class for training data\n",
    "\t\tself.conv1 = nn.Conv2d(1, 10, 5) #Convolutional modul: input 1, output 10, kernel 5\n",
    "\t\tself.conv2 = nn.Conv2d(10, 20, 5) #Convolutional modul: input 10, output 20, kernel 5\n",
    "\t\tself.maxpool = nn.MaxPool2d(2) #maxpooling modul: kernel\n",
    "\t\tself.relu = nn.ReLU() #activation relu modul\n",
    "\t\tself.dropout2d = nn.Dropout2d() #dropout modul\n",
    "\t\tself.fc1 = nn.Linear(320, 50) #Fully Connected modul: input, output\n",
    "\t\tself.fc2 = nn.Linear(50, 10)# Fully Connected modul: input, output\n",
    "\n",
    "\tdef forward(self, x): #feed forward\n",
    "\t\tlayer1 = self.relu(self.maxpool(self.conv1(x))) # layer1 = x -> conv1 -> maxpool -> relu\n",
    "\t\tlayer2 = self.relu(self.maxpool(self.dropout2d(self.conv2(layer1)))) #layer2 = layer1 -> conv2 -> dropout -> maxpool -> relu\n",
    "\t\tlayer3 = layer2.view(-1, 320) #make it flat from 0 - 320\n",
    "\t\tlayer4 = self.relu(self.fc1(layer3)) #layer4 = layer3 -> fc1 -> relu\n",
    "\t\tlayer5 = self.fc2(layer4) #layer5 = layer4 -> fc2\n",
    "\t\treturn F.log_softmax(layer5) #softmax activation to layer5"
   ]
  },
  {
   "cell_type": "code",
   "execution_count": 65,
   "metadata": {},
   "outputs": [],
   "source": [
    "class Dataset:\n",
    "\tdef read(self):\n",
    "\t\t#load train and test loader that the range will be normalized into 0-1, batch size=1000 and shuffle the data\n",
    "\t\ttrain_loader = torch.utils.data.DataLoader( \n",
    "\t\t\tdatasets.MNIST('dataset/',train=True, download=False, \n",
    "\t\t\t\t transform=transforms.Compose([transforms.ToTensor(),transforms.Normalize((0.1307,), (0.3081,))])),\n",
    "\t\t\t\t batch_size=1000, shuffle=True)\n",
    "\t\ttest_loader = torch.utils.data.DataLoader(\n",
    "\t\t\tdatasets.MNIST('dataset/',train=False, \n",
    "\t\t\t\t transform=transforms.Compose([transforms.ToTensor(),transforms.Normalize((0.1307,), (0.3081,))])),\n",
    "\t\t\t\t batch_size=1000, shuffle=True)\n",
    "\t\treturn train_loader, test_loader"
   ]
  },
  {
   "cell_type": "code",
   "execution_count": 68,
   "metadata": {},
   "outputs": [],
   "source": [
    "model2 = CNN() #or you can choose: model = DNN()"
   ]
  },
  {
   "cell_type": "code",
   "execution_count": 82,
   "metadata": {},
   "outputs": [
    {
     "name": "stderr",
     "output_type": "stream",
     "text": [
      "C:\\Anaconda\\lib\\site-packages\\ipykernel_launcher.py:18: UserWarning: Implicit dimension choice for log_softmax has been deprecated. Change the call to include dim=X as an argument.\n"
     ]
    },
    {
     "name": "stdout",
     "output_type": "stream",
     "text": [
      "----------------------------------------------------------------\n",
      "        Layer (type)               Output Shape         Param #\n",
      "================================================================\n",
      "            Conv2d-1           [-1, 10, 24, 24]             260\n",
      "         MaxPool2d-2           [-1, 10, 12, 12]               0\n",
      "              ReLU-3           [-1, 10, 12, 12]               0\n",
      "            Conv2d-4             [-1, 20, 8, 8]           5,020\n",
      "         Dropout2d-5             [-1, 20, 8, 8]               0\n",
      "         MaxPool2d-6             [-1, 20, 4, 4]               0\n",
      "              ReLU-7             [-1, 20, 4, 4]               0\n",
      "            Linear-8                   [-1, 50]          16,050\n",
      "              ReLU-9                   [-1, 50]               0\n",
      "           Linear-10                   [-1, 10]             510\n",
      "================================================================\n",
      "Total params: 21,840\n",
      "Trainable params: 21,840\n",
      "Non-trainable params: 0\n",
      "----------------------------------------------------------------\n",
      "Input size (MB): 0.00\n",
      "Forward/backward pass size (MB): 0.09\n",
      "Params size (MB): 0.08\n",
      "Estimated Total Size (MB): 0.18\n",
      "----------------------------------------------------------------\n"
     ]
    }
   ],
   "source": [
    "summary(model2, (1, 28,28))"
   ]
  },
  {
   "cell_type": "code",
   "execution_count": 83,
   "metadata": {},
   "outputs": [
    {
     "name": "stdout",
     "output_type": "stream",
     "text": [
      "Collecting tensorboard_logger\n",
      "  Downloading https://files.pythonhosted.org/packages/87/7a/ec0fd26dba69191f82eb8f38f5b401c124f45a207490a7ade6ea9717ecdb/tensorboard_logger-0.1.0-py2.py3-none-any.whl\n",
      "Requirement already satisfied: pillow>=4.1.1 in c:\\anaconda\\lib\\site-packages (from tensorboard_logger) (5.1.0)\n",
      "Requirement already satisfied: six in c:\\anaconda\\lib\\site-packages (from tensorboard_logger) (1.11.0)\n",
      "Requirement already satisfied: numpy in c:\\anaconda\\lib\\site-packages (from tensorboard_logger) (1.14.3)\n",
      "Requirement already satisfied: protobuf in c:\\anaconda\\lib\\site-packages (from tensorboard_logger) (3.6.0)\n",
      "Requirement already satisfied: scipy>=0.19.1 in c:\\anaconda\\lib\\site-packages (from tensorboard_logger) (1.1.0)\n",
      "Requirement already satisfied: setuptools in c:\\anaconda\\lib\\site-packages (from protobuf->tensorboard_logger) (39.1.0)\n",
      "Installing collected packages: tensorboard-logger\n",
      "Successfully installed tensorboard-logger-0.1.0\n"
     ]
    }
   ],
   "source": [
    "!pip install tensorboard_logger"
   ]
  },
  {
   "cell_type": "code",
   "execution_count": null,
   "metadata": {},
   "outputs": [],
   "source": []
  }
 ],
 "metadata": {
  "kernelspec": {
   "display_name": "Python 3",
   "language": "python",
   "name": "python3"
  },
  "language_info": {
   "codemirror_mode": {
    "name": "ipython",
    "version": 3
   },
   "file_extension": ".py",
   "mimetype": "text/x-python",
   "name": "python",
   "nbconvert_exporter": "python",
   "pygments_lexer": "ipython3",
   "version": "3.6.5"
  }
 },
 "nbformat": 4,
 "nbformat_minor": 2
}
